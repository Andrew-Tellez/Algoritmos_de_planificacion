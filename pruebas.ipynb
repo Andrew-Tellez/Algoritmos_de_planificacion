{
 "cells": [
  {
   "cell_type": "code",
   "execution_count": null,
   "metadata": {},
   "outputs": [],
   "source": [
    "from utility_clases import Proceso\n"
   ]
  },
  {
   "cell_type": "code",
   "execution_count": 3,
   "metadata": {},
   "outputs": [
    {
     "name": "stdout",
     "output_type": "stream",
     "text": [
      "\n",
      "    [  \n",
      "      name:Proceso 1 \n",
      "      requerido:10 \n",
      "      asignado:5 \n",
      "      ciclos:1 \n",
      "      llegada:1\n",
      "    ] \n"
     ]
    }
   ],
   "source": [
    "print(Proceso(\"Proceso 1\", 10, 5, 1))"
   ]
  },
  {
   "cell_type": "code",
   "execution_count": 4,
   "metadata": {},
   "outputs": [],
   "source": [
    "#lista de procesos\n",
    "quantum = 2\n",
    "\n",
    "lista_de_procesos:list[Proceso] = [\n",
    "  Proceso(\"P1\", 10, quantum, 0),\n",
    "  Proceso(\"P2\", 5, quantum, 1),\n",
    "  Proceso(\"P3\", 2, quantum, 2),\n",
    "  Proceso(\"P4\", 1, quantum, 3)\n",
    "]"
   ]
  },
  {
   "cell_type": "code",
   "execution_count": 9,
   "metadata": {},
   "outputs": [],
   "source": [
    "lista_de_procesos.sort(key=lambda x: x.llegada)"
   ]
  },
  {
   "cell_type": "code",
   "execution_count": null,
   "metadata": {},
   "outputs": [],
   "source": [
    "while len(lista_de_procesos) > 0:\n",
    "  for proceso in lista_de_procesos:\n",
    "    if proceso.requerido > quantum:\n",
    "      proceso.requerido -= quantum\n",
    "      proceso.tiempos += quantum\n",
    "\n",
    "    else:\n",
    "      print(f\"Proceso {proceso.name} terminado\")\n",
    "      lista_de_procesos.remove(proceso)\n"
   ]
  }
 ],
 "metadata": {
  "kernelspec": {
   "display_name": "Python 3.10.2 64-bit",
   "language": "python",
   "name": "python3"
  },
  "language_info": {
   "codemirror_mode": {
    "name": "ipython",
    "version": 3
   },
   "file_extension": ".py",
   "mimetype": "text/x-python",
   "name": "python",
   "nbconvert_exporter": "python",
   "pygments_lexer": "ipython3",
   "version": "3.10.2"
  },
  "orig_nbformat": 4,
  "vscode": {
   "interpreter": {
    "hash": "26de051ba29f2982a8de78e945f0abaf191376122a1563185a90213a26c5da77"
   }
  }
 },
 "nbformat": 4,
 "nbformat_minor": 2
}
